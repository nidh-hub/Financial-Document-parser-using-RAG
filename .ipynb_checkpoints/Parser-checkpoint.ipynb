{
 "cells": [
  {
   "cell_type": "code",
   "execution_count": 2,
   "id": "748e316b-c5fc-4c3d-8858-50873b8b5263",
   "metadata": {},
   "outputs": [
    {
     "name": "stderr",
     "output_type": "stream",
     "text": [
      "ERROR:    [Errno 10048] error while attempting to bind on address ('0.0.0.0', 7860): [winerror 10048] only one usage of each socket address (protocol/network address/port) is normally permitted\n",
      "ERROR:    [Errno 10048] error while attempting to bind on address ('0.0.0.0', 7861): [winerror 10048] only one usage of each socket address (protocol/network address/port) is normally permitted\n"
     ]
    },
    {
     "name": "stdout",
     "output_type": "stream",
     "text": [
      "* Running on local URL:  http://0.0.0.0:7862\n",
      "\n",
      "To create a public link, set `share=True` in `launch()`.\n"
     ]
    },
    {
     "data": {
      "text/html": [
       "<div><iframe src=\"http://localhost:7862/\" width=\"100%\" height=\"500\" allow=\"autoplay; camera; microphone; clipboard-read; clipboard-write;\" frameborder=\"0\" allowfullscreen></iframe></div>"
      ],
      "text/plain": [
       "<IPython.core.display.HTML object>"
      ]
     },
     "metadata": {},
     "output_type": "display_data"
    }
   ],
   "source": [
    "# main.py (fixed version)\n",
    "from langchain_community.llms import Ollama\n",
    "from langchain_core.runnables import RunnablePassthrough\n",
    "from langchain_core.prompts import ChatPromptTemplate\n",
    "from langchain_community.vectorstores import FAISS\n",
    "from langchain_community.embeddings import HuggingFaceEmbeddings\n",
    "from langchain_community.document_loaders import PyPDFLoader\n",
    "from langchain_text_splitters import RecursiveCharacterTextSplitter\n",
    "import gradio as gr\n",
    "\n",
    "# Initialize components\n",
    "embeddings = HuggingFaceEmbeddings(model_name=\"all-MiniLM-L6-v2\")\n",
    "llm = Ollama(\n",
    "    model=\"llama2\",  \n",
    "    base_url=\"http://localhost:11434\",  \n",
    "    temperature=0.3\n",
    ")\n",
    "# Load ESG base documents\n",
    "def load_esg_base():\n",
    "    loader = PyPDFLoader(\"C:/Users/chakr/Downloads/esg_regulations.pdf\")\n",
    "    pages = loader.load()\n",
    "    splitter = RecursiveCharacterTextSplitter(chunk_size=1000, chunk_overlap=200)\n",
    "    return splitter.split_documents(pages)\n",
    "\n",
    "vector_store = FAISS.from_documents(load_esg_base(), embeddings)\n",
    "\n",
    "def analyze_content(query, file):\n",
    "    try:\n",
    "        if file:\n",
    "            loader = PyPDFLoader(file.name)\n",
    "            user_docs = loader.load()\n",
    "            splitter = RecursiveCharacterTextSplitter(chunk_size=1000, chunk_overlap=200)\n",
    "            user_chunks = splitter.split_documents(user_docs)\n",
    "            \n",
    "            user_store = FAISS.from_documents(user_chunks, embeddings)\n",
    "            user_store.merge_from(vector_store)\n",
    "            retriever = user_store.as_retriever()\n",
    "        else:\n",
    "            retriever = vector_store.as_retriever()\n",
    "\n",
    "        prompt = ChatPromptTemplate.from_template(\n",
    "            \"\"\"Analyze this ESG document for compliance risks:\n",
    "            {context}\n",
    "            \n",
    "            Query: {input}\n",
    "            \n",
    "            Format findings as:\n",
    "            - [RISK LEVEL] [SECTION]: [DESCRIPTION]\"\"\"\n",
    "        )\n",
    "\n",
    "        chain = (\n",
    "            {\"context\": retriever, \"input\": RunnablePassthrough()}\n",
    "            | prompt\n",
    "            | llm\n",
    "        )\n",
    "\n",
    "        return chain.invoke(query)\n",
    "    \n",
    "    except Exception as e:\n",
    "        return f\"Error: {str(e)}\"\n",
    "\n",
    "# Gradio interface\n",
    "with gr.Blocks(title=\"ESG Compliance Analyzer\") as app:\n",
    "    gr.Markdown(\"## ESG Document Analyzer with Local LLM\")\n",
    "    \n",
    "    with gr.Row():\n",
    "        with gr.Column():\n",
    "            file_input = gr.File(label=\"Upload Document (PDF)\")\n",
    "            query_input = gr.Textbox(label=\"Your Compliance Question\")\n",
    "            submit_btn = gr.Button(\"Analyze\")\n",
    "        \n",
    "        with gr.Column():\n",
    "            output = gr.Textbox(label=\"Analysis Results\", interactive=False)\n",
    "\n",
    "    submit_btn.click(\n",
    "        fn=analyze_content,\n",
    "        inputs=[query_input, file_input],\n",
    "        outputs=output\n",
    "    )\n",
    "\n",
    "if __name__ == \"__main__\":\n",
    "    app.launch(server_name=\"0.0.0.0\", share=False)"
   ]
  },
  {
   "cell_type": "code",
   "execution_count": null,
   "id": "121baba1-8192-4495-bdfb-e869c1114e5a",
   "metadata": {},
   "outputs": [],
   "source": []
  },
  {
   "cell_type": "code",
   "execution_count": null,
   "id": "99222063-9f51-4523-8999-d95d23fb8183",
   "metadata": {},
   "outputs": [],
   "source": []
  }
 ],
 "metadata": {
  "kernelspec": {
   "display_name": "Python 3 (ipykernel)",
   "language": "python",
   "name": "python3"
  },
  "language_info": {
   "codemirror_mode": {
    "name": "ipython",
    "version": 3
   },
   "file_extension": ".py",
   "mimetype": "text/x-python",
   "name": "python",
   "nbconvert_exporter": "python",
   "pygments_lexer": "ipython3",
   "version": "3.9.13"
  }
 },
 "nbformat": 4,
 "nbformat_minor": 5
}
