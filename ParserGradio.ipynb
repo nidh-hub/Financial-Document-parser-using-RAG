{
 "cells": [
  {
   "cell_type": "code",
   "execution_count": 1,
   "id": "f8ca8c33",
   "metadata": {},
   "outputs": [],
   "source": [
    "from langchain_community.llms import Ollama\n",
    "from langchain_core.runnables import RunnablePassthrough\n",
    "from langchain_core.prompts import ChatPromptTemplate\n",
    "from langchain_community.vectorstores import FAISS\n",
    "from langchain_community.embeddings import HuggingFaceEmbeddings\n",
    "from langchain_community.document_loaders import PyPDFLoader\n",
    "from langchain_text_splitters import RecursiveCharacterTextSplitter\n",
    "import gradio as gr"
   ]
  },
  {
   "cell_type": "code",
   "execution_count": 2,
   "id": "8115bbb3",
   "metadata": {},
   "outputs": [
    {
     "name": "stderr",
     "output_type": "stream",
     "text": [
      "C:\\Users\\Nidhi.Chakravarthy\\AppData\\Local\\Temp\\ipykernel_23760\\4032639944.py:2: LangChainDeprecationWarning: The class `HuggingFaceEmbeddings` was deprecated in LangChain 0.2.2 and will be removed in 1.0. An updated version of the class exists in the :class:`~langchain-huggingface package and should be used instead. To use it run `pip install -U :class:`~langchain-huggingface` and import as `from :class:`~langchain_huggingface import HuggingFaceEmbeddings``.\n",
      "  embeddings = HuggingFaceEmbeddings(model_name=\"all-MiniLM-L6-v2\")\n",
      "C:\\Users\\Nidhi.Chakravarthy\\Anaconda3\\lib\\site-packages\\scipy\\__init__.py:155: UserWarning: A NumPy version >=1.18.5 and <1.25.0 is required for this version of SciPy (detected version 1.26.4\n",
      "  warnings.warn(f\"A NumPy version >={np_minversion} and <{np_maxversion}\"\n",
      "C:\\Users\\Nidhi.Chakravarthy\\AppData\\Local\\Temp\\ipykernel_23760\\4032639944.py:3: LangChainDeprecationWarning: The class `Ollama` was deprecated in LangChain 0.3.1 and will be removed in 1.0.0. An updated version of the class exists in the :class:`~langchain-ollama package and should be used instead. To use it run `pip install -U :class:`~langchain-ollama` and import as `from :class:`~langchain_ollama import OllamaLLM``.\n",
      "  llm = Ollama(\n"
     ]
    }
   ],
   "source": [
    "# Initialize components\n",
    "embeddings = HuggingFaceEmbeddings(model_name=\"all-MiniLM-L6-v2\")\n",
    "llm = Ollama(\n",
    "    model=\"llama2\",  \n",
    "    base_url=\"http://localhost:11434\",  \n",
    "    temperature=0.3\n",
    ")"
   ]
  },
  {
   "cell_type": "code",
   "execution_count": 3,
   "id": "9830f8b1",
   "metadata": {},
   "outputs": [],
   "source": [
    "# Load ESG base documents\n",
    "def load_esg_base():\n",
    "    loader = PyPDFLoader(\"C:/Users/Nidhi.Chakravarthy/Documents/Financial-Document-parser-using-RAG/esg_regulations.pdf\")\n",
    "    pages = loader.load()\n",
    "    splitter = RecursiveCharacterTextSplitter(chunk_size=1000, chunk_overlap=200)\n",
    "    return splitter.split_documents(pages)\n",
    "\n",
    "vector_store = FAISS.from_documents(load_esg_base(), embeddings)"
   ]
  },
  {
   "cell_type": "code",
   "execution_count": 4,
   "id": "e48ef7ab",
   "metadata": {},
   "outputs": [],
   "source": [
    "def analyze_content(query, file):\n",
    "    try:\n",
    "        if file:\n",
    "            loader = PyPDFLoader(file.name)\n",
    "            user_docs = loader.load()\n",
    "            splitter = RecursiveCharacterTextSplitter(chunk_size=1000, chunk_overlap=200)\n",
    "            user_chunks = splitter.split_documents(user_docs)\n",
    "            \n",
    "            user_store = FAISS.from_documents(user_chunks, embeddings)\n",
    "            user_store.merge_from(vector_store)\n",
    "            retriever = user_store.as_retriever()\n",
    "        else:\n",
    "            retriever = vector_store.as_retriever()\n",
    "\n",
    "        prompt = ChatPromptTemplate.from_template(\n",
    "            \"\"\"Analyze this ESG document for compliance risks:\n",
    "            {context}\n",
    "            \n",
    "            Query: {input}\n",
    "            \n",
    "            Format findings as:\n",
    "            - [RISK LEVEL] [SECTION]: [DESCRIPTION]\"\"\"\n",
    "        )\n",
    "\n",
    "        chain = (\n",
    "            {\"context\": retriever, \"input\": RunnablePassthrough()}\n",
    "            | prompt\n",
    "            | llm\n",
    "        )\n",
    "\n",
    "        return chain.invoke(query)\n",
    "    \n",
    "    except Exception as e:\n",
    "        return f\"Error: {str(e)}\""
   ]
  },
  {
   "cell_type": "code",
   "execution_count": 5,
   "id": "748e316b-c5fc-4c3d-8858-50873b8b5263",
   "metadata": {},
   "outputs": [
    {
     "name": "stdout",
     "output_type": "stream",
     "text": [
      "Running on local URL:  http://0.0.0.0:7860\n",
      "\n",
      "To create a public link, set `share=True` in `launch()`.\n"
     ]
    },
    {
     "data": {
      "text/html": [
       "<div><iframe src=\"http://localhost:7860/\" width=\"100%\" height=\"500\" allow=\"autoplay; camera; microphone; clipboard-read; clipboard-write;\" frameborder=\"0\" allowfullscreen></iframe></div>"
      ],
      "text/plain": [
       "<IPython.core.display.HTML object>"
      ]
     },
     "metadata": {},
     "output_type": "display_data"
    }
   ],
   "source": [
    "# Gradio interface\n",
    "with gr.Blocks(title=\"ESG Compliance Analyzer\") as app:\n",
    "    gr.Markdown(\"## ESG Document Analyzer with Local LLM\")\n",
    "    \n",
    "    with gr.Row():\n",
    "        with gr.Column():\n",
    "            file_input = gr.File(label=\"Upload Document (PDF)\")\n",
    "            query_input = gr.Textbox(label=\"Your Compliance Question\")\n",
    "            submit_btn = gr.Button(\"Analyze\")\n",
    "        \n",
    "        with gr.Column():\n",
    "            output = gr.Textbox(label=\"Analysis Results\", interactive=False)\n",
    "\n",
    "    submit_btn.click(\n",
    "        fn=analyze_content,\n",
    "        inputs=[query_input, file_input],\n",
    "        outputs=output\n",
    "    )\n",
    "\n",
    "if __name__ == \"__main__\":\n",
    "    app.launch(server_name=\"0.0.0.0\", share=False)"
   ]
  },
  {
   "cell_type": "code",
   "execution_count": null,
   "id": "121baba1-8192-4495-bdfb-e869c1114e5a",
   "metadata": {},
   "outputs": [],
   "source": []
  },
  {
   "cell_type": "code",
   "execution_count": null,
   "id": "99222063-9f51-4523-8999-d95d23fb8183",
   "metadata": {},
   "outputs": [],
   "source": []
  }
 ],
 "metadata": {
  "kernelspec": {
   "display_name": "Python 3 (ipykernel)",
   "language": "python",
   "name": "python3"
  },
  "language_info": {
   "codemirror_mode": {
    "name": "ipython",
    "version": 3
   },
   "file_extension": ".py",
   "mimetype": "text/x-python",
   "name": "python",
   "nbconvert_exporter": "python",
   "pygments_lexer": "ipython3",
   "version": "3.13.0"
  }
 },
 "nbformat": 4,
 "nbformat_minor": 5
}
